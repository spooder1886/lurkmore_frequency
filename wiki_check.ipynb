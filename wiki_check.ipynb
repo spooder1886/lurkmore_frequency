{
 "cells": [
  {
   "cell_type": "code",
   "execution_count": null,
   "metadata": {},
   "outputs": [],
   "source": [
    "from razdel import tokenize\n",
    "import pymorphy2\n",
    "\n",
    "file_path = r'C:\\Users\\spood\\Desktop\\курсач 3 курс\\giza\\wiki_dumb\\wiki-ru.ol'\n",
    "morph = pymorphy2.MorphAnalyzer()\n",
    "\n",
    "word_counts = {}\n",
    "#dct = {'сабж': 0, 'алсо': 0, 'хороший, годный': 0, 'овер9000': 0, 'over9000': 0, 'го': 0, 'жж': 0, 'анонимус': 0, 'анон': 0, '/b/': 0,  '/б/': 0, 'поциент': 0} #добавляю все свои слова\n",
    "dct = {'группа': 0, 'обычно': 0, 'попытка': 0, 'действие': 0, 'заниматься': 0}\n",
    "count = 0\n",
    "tokens = 0\n",
    "with open(file_path, 'r', encoding='utf-8') as file:\n",
    "    for line in file:\n",
    "        count += 1\n",
    "        processed_line = [morph.parse(t.text)[0].normal_form for t in tokenize(line.lower())]\n",
    "        tokens += len(processed_line)\n",
    "        for key in dct:\n",
    "            if key in processed_line:\n",
    "                dct[key] += 1\n",
    "        if count >= 10000:#ставлю нужное количество строк на пробег скрипта (10000)\n",
    "            break\n",
    "\n",
    "for key, count in dct.items():\n",
    "    print(f'{key}: {count}')\n",
    "print(tokens)\n"
   ]
  }
 ],
 "metadata": {
  "language_info": {
   "name": "python"
  },
  "orig_nbformat": 4
 },
 "nbformat": 4,
 "nbformat_minor": 2
}
