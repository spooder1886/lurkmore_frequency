{
 "cells": [
  {
   "cell_type": "code",
   "execution_count": null,
   "metadata": {},
   "outputs": [],
   "source": [
    "import pandas as pd\n",
    "import nltk\n",
    "from nltk.corpus import stopwords\n",
    "from nltk.tokenize import RegexpTokenizer\n",
    "from natasha import MorphVocab\n",
    "import os\n",
    "\n",
    "nltk.download('stopwords')\n",
    "stop_words = set(stopwords.words('russian'))\n",
    "\n",
    "lurkfiles_path = r'C:\\Users\\spood\\Desktop\\курсач 3 курс\\giza\\lurkfiles'\n",
    "full = []\n",
    "\n",
    "for file in os.listdir(lurkfiles_path):\n",
    "    file_path = os.path.join(lurkfiles_path, file)\n",
    "    data = pd.read_csv(file_path)\n",
    "    original_column = data['original']\n",
    "    original_list = list(original_column)\n",
    "    full.extend(original_list)\n",
    "\n",
    "tokenizer = RegexpTokenizer(r'\\w+')\n",
    "lower_lst = [tokenizer.tokenize(sentence.lower()) for sentence in full]\n",
    "\n",
    "filtered_lst = [word for sentence in lower_lst for word in sentence if word not in stop_words]\n",
    "\n",
    "morph_vocab = MorphVocab()\n",
    "\n",
    "lemmatized_lst = []\n",
    "for word in filtered_lst:\n",
    "    doc = Doc(word)\n",
    "    doc.segment(segmenter)\n",
    "    doc.tag_morph(morph_tagger)\n",
    "    doc.lemmatize(morph_vocab)\n",
    "    lemmas = [token.lemma for token in doc.tokens]\n",
    "    lemmatized_lst.extend(lemmas)\n",
    "\n",
    "word_counts = {}\n",
    "for word in lemmatized_lst:\n",
    "    word_counts[word] = word_counts.get(word, 0) + 1\n",
    "\n",
    "sorted_words = sorted(word_counts.items(), key=lambda x: x[1], reverse=True)\n",
    "\n",
    "for word, count in sorted_words:\n",
    "    if word not in stop_words:\n",
    "        print(f'{word}: {count}')"
   ]
  }
 ],
 "metadata": {
  "language_info": {
   "name": "python"
  },
  "orig_nbformat": 4
 },
 "nbformat": 4,
 "nbformat_minor": 2
}
